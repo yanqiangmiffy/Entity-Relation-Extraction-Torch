{
 "cells": [
  {
   "cell_type": "markdown",
   "metadata": {
    "tags": []
   },
   "source": [
    "## NYT数据集\n",
    "\n",
    "NYT-10数据发布于Riedel et al, 2010这篇论文中，其文本来源于纽约时报New York Times所标注的语料，命名实体是通过 Stanford NER 工具并结合 Freebase 知识库进行标注的。命名实体对之间的关系是链接和参考外部的Freebase知识库中的关系，结合远监督方法所得到的。\n"
   ]
  },
  {
   "cell_type": "markdown",
   "metadata": {},
   "source": [
    "## NYT数据分析"
   ]
  },
  {
   "cell_type": "code",
   "execution_count": 52,
   "metadata": {},
   "outputs": [],
   "source": [
    "import pandas as pd\n",
    "import matplotlib.pyplot as plt\n",
    "from tqdm import tqdm"
   ]
  },
  {
   "cell_type": "code",
   "execution_count": 5,
   "metadata": {},
   "outputs": [],
   "source": [
    "train=pd.read_json('data/NYT/train_triples.json')\n",
    "dev=pd.read_json('data/NYT/dev_triples.json')\n",
    "test=pd.read_json('data/NYT/test_triples.json')"
   ]
  },
  {
   "cell_type": "code",
   "execution_count": 7,
   "metadata": {},
   "outputs": [
    {
     "data": {
      "text/plain": [
       "((56195, 2), (4999, 2), (5000, 2))"
      ]
     },
     "execution_count": 7,
     "metadata": {},
     "output_type": "execute_result"
    }
   ],
   "source": [
    "train.shape,dev.shape,test.shape"
   ]
  },
  {
   "cell_type": "code",
   "execution_count": 6,
   "metadata": {},
   "outputs": [
    {
     "data": {
      "text/html": [
       "<div>\n",
       "<style scoped>\n",
       "    .dataframe tbody tr th:only-of-type {\n",
       "        vertical-align: middle;\n",
       "    }\n",
       "\n",
       "    .dataframe tbody tr th {\n",
       "        vertical-align: top;\n",
       "    }\n",
       "\n",
       "    .dataframe thead th {\n",
       "        text-align: right;\n",
       "    }\n",
       "</style>\n",
       "<table border=\"1\" class=\"dataframe\">\n",
       "  <thead>\n",
       "    <tr style=\"text-align: right;\">\n",
       "      <th></th>\n",
       "      <th>text</th>\n",
       "      <th>triple_list</th>\n",
       "    </tr>\n",
       "  </thead>\n",
       "  <tbody>\n",
       "    <tr>\n",
       "      <th>0</th>\n",
       "      <td>Massachusetts ASTON MAGNA Great Barrington ; a...</td>\n",
       "      <td>[[Annandale-on-Hudson, /location/location/cont...</td>\n",
       "    </tr>\n",
       "    <tr>\n",
       "      <th>1</th>\n",
       "      <td>North Carolina EASTERN MUSIC FESTIVAL Greensbo...</td>\n",
       "      <td>[[Carolina, /location/location/contains, Green...</td>\n",
       "    </tr>\n",
       "    <tr>\n",
       "      <th>2</th>\n",
       "      <td>It will be the final movie credited to Debra H...</td>\n",
       "      <td>[[Hill, /people/person/place_of_birth, Haddonf...</td>\n",
       "    </tr>\n",
       "    <tr>\n",
       "      <th>3</th>\n",
       "      <td>In a 3-0 victory over the Crew on Saturday in ...</td>\n",
       "      <td>[[Ohio, /location/location/contains, Columbus]]</td>\n",
       "    </tr>\n",
       "    <tr>\n",
       "      <th>4</th>\n",
       "      <td>The United States ambassador to Mexico , Tony ...</td>\n",
       "      <td>[[Mexico, /location/location/contains, Laredo]]</td>\n",
       "    </tr>\n",
       "  </tbody>\n",
       "</table>\n",
       "</div>"
      ],
      "text/plain": [
       "                                                text  \\\n",
       "0  Massachusetts ASTON MAGNA Great Barrington ; a...   \n",
       "1  North Carolina EASTERN MUSIC FESTIVAL Greensbo...   \n",
       "2  It will be the final movie credited to Debra H...   \n",
       "3  In a 3-0 victory over the Crew on Saturday in ...   \n",
       "4  The United States ambassador to Mexico , Tony ...   \n",
       "\n",
       "                                         triple_list  \n",
       "0  [[Annandale-on-Hudson, /location/location/cont...  \n",
       "1  [[Carolina, /location/location/contains, Green...  \n",
       "2  [[Hill, /people/person/place_of_birth, Haddonf...  \n",
       "3    [[Ohio, /location/location/contains, Columbus]]  \n",
       "4    [[Mexico, /location/location/contains, Laredo]]  "
      ]
     },
     "execution_count": 6,
     "metadata": {},
     "output_type": "execute_result"
    }
   ],
   "source": [
    "train.head()"
   ]
  },
  {
   "cell_type": "markdown",
   "metadata": {},
   "source": [
    "训练集中关系每个文本关系个数"
   ]
  },
  {
   "cell_type": "code",
   "execution_count": 16,
   "metadata": {},
   "outputs": [
    {
     "data": {
      "text/plain": [
       "0        1\n",
       "1        1\n",
       "2        1\n",
       "3        1\n",
       "4        1\n",
       "        ..\n",
       "56190    1\n",
       "56191    2\n",
       "56192    1\n",
       "56193    2\n",
       "56194    4\n",
       "Name: triple_nums, Length: 56195, dtype: int64"
      ]
     },
     "execution_count": 16,
     "metadata": {},
     "output_type": "execute_result"
    }
   ],
   "source": [
    "train['triple_nums']=train['triple_list'].apply(lambda x:len(x))\n",
    "train['triple_nums']"
   ]
  },
  {
   "cell_type": "code",
   "execution_count": 18,
   "metadata": {},
   "outputs": [
    {
     "data": {
      "text/plain": [
       "count    56195.000000\n",
       "mean         1.570478\n",
       "std          1.010864\n",
       "min          1.000000\n",
       "25%          1.000000\n",
       "50%          1.000000\n",
       "75%          2.000000\n",
       "max         20.000000\n",
       "Name: triple_nums, dtype: float64"
      ]
     },
     "execution_count": 18,
     "metadata": {},
     "output_type": "execute_result"
    }
   ],
   "source": [
    "train['triple_nums'].describe()"
   ]
  },
  {
   "cell_type": "code",
   "execution_count": 19,
   "metadata": {},
   "outputs": [
    {
     "data": {
      "text/plain": [
       "1     36868\n",
       "2     12058\n",
       "3      3663\n",
       "4      2618\n",
       "5       517\n",
       "6       268\n",
       "7       110\n",
       "8        58\n",
       "9        14\n",
       "10       10\n",
       "12        4\n",
       "15        3\n",
       "20        1\n",
       "14        1\n",
       "17        1\n",
       "11        1\n",
       "Name: triple_nums, dtype: int64"
      ]
     },
     "execution_count": 19,
     "metadata": {},
     "output_type": "execute_result"
    }
   ],
   "source": [
    "train['triple_nums'].value_counts()"
   ]
  },
  {
   "cell_type": "markdown",
   "metadata": {},
   "source": [
    "从上面统计结果可以看出：\n",
    "- 一个文本中可能存在一条或者多条关系\n",
    "- 其中在训练集中一个文本最少存在1个三元组关系对，最多20个\n",
    "- 绝大数文本存在1个关系，其次是存在2个"
   ]
  },
  {
   "cell_type": "code",
   "execution_count": 20,
   "metadata": {},
   "outputs": [],
   "source": [
    "train['relations']=train['triple_list'].apply(lambda x:[triple[1] for triple in x])"
   ]
  },
  {
   "cell_type": "code",
   "execution_count": 21,
   "metadata": {},
   "outputs": [
    {
     "data": {
      "text/plain": [
       "0      [/location/location/contains]\n",
       "1      [/location/location/contains]\n",
       "2    [/people/person/place_of_birth]\n",
       "3      [/location/location/contains]\n",
       "4      [/location/location/contains]\n",
       "Name: relations, dtype: object"
      ]
     },
     "execution_count": 21,
     "metadata": {},
     "output_type": "execute_result"
    }
   ],
   "source": [
    "train['relations'].head()"
   ]
  },
  {
   "cell_type": "markdown",
   "metadata": {},
   "source": [
    "统计所有关系类别数量分布"
   ]
  },
  {
   "cell_type": "code",
   "execution_count": 25,
   "metadata": {},
   "outputs": [],
   "source": [
    "all_relations=[]\n",
    "\n",
    "for relations in train['relations']:\n",
    "    all_relations.extend(relations)"
   ]
  },
  {
   "cell_type": "code",
   "execution_count": 28,
   "metadata": {},
   "outputs": [
    {
     "data": {
      "text/plain": [
       "/location/location/contains                           42895\n",
       "/people/person/nationality                             6598\n",
       "/people/person/place_lived                             6178\n",
       "/location/country/capital                              6114\n",
       "/location/administrative_division/country              5109\n",
       "/location/country/administrative_divisions             5109\n",
       "/business/person/company                               4728\n",
       "/location/neighborhood/neighborhood_of                 4671\n",
       "/people/person/place_of_birth                          2699\n",
       "/people/deceased_person/place_of_death                 1676\n",
       "/business/company/founders                              682\n",
       "/people/person/children                                 434\n",
       "/business/company/place_founded                         346\n",
       "/business/company/major_shareholders                    238\n",
       "/business/company_shareholder/major_shareholder_of      238\n",
       "/sports/sports_team/location                            186\n",
       "/sports/sports_team_location/teams                      186\n",
       "/people/person/religion                                  56\n",
       "/business/company/advisors                               37\n",
       "/people/ethnicity/geographic_distribution                32\n",
       "/people/person/ethnicity                                 19\n",
       "/people/ethnicity/people                                 19\n",
       "/people/person/profession                                 2\n",
       "/business/company/industry                                1\n",
       "dtype: int64"
      ]
     },
     "execution_count": 28,
     "metadata": {},
     "output_type": "execute_result"
    }
   ],
   "source": [
    "pd.Series(all_relations).value_counts()"
   ]
  },
  {
   "cell_type": "code",
   "execution_count": 36,
   "metadata": {},
   "outputs": [
    {
     "data": {
      "image/png": "[encoded data removed]",
      "text/plain": [
       "<Figure size 432x288 with 1 Axes>"
      ]
     },
     "metadata": {
      "needs_background": "light"
     },
     "output_type": "display_data"
    }
   ],
   "source": [
    "pd.Series(all_relations).value_counts().plot(kind='barh')\n",
    "plt.show()"
   ]
  },
  {
   "cell_type": "markdown",
   "metadata": {},
   "source": [
    "可以看到类别分布极不平衡，其中出现次数最多的关系是/location/location/contains，出现了4万多次，出现次数最少的关系是/business/company/industry，只有1次"
   ]
  },
  {
   "cell_type": "markdown",
   "metadata": {},
   "source": [
    "|关系|中文名称|数量|\n",
    "|----|----|----|\n",
    "|/location/location/contains   | /位置/位置/包含| 42895|\n",
    "/people/person/nationality     | /人/人/国籍   |6598|\n",
    "/people/person/place_lived     | /人/人/居住地| 6178|\n",
    "/location/country/capital      |  /地点/国家/首都| 6114|\n",
    "/location/administrative_division/country|/位置/行政区/国家| 5109|\n",
    "/location/country/administrative_divisions|/地点/国家/行政区划| 5109|\n",
    "/business/person/company | /企业/人/公司| 4728|\n",
    "/location/neighborhood/neighborhood_of|/位置/邻里/邻里关系|4671|\n",
    "/people/person/place_of_birth| /人/人/出生地| 2699|\n",
    "/people/deceased_person/place_of_death|/人/死者/死亡地| 1676|\n",
    "/business/company/founders |/商业/公司/创始人|  682|\n",
    "/people/person/children  |/人/人/儿童|  434|\n",
    "/business/company/place_founded|/业务/公司/地点成立|  346|\n",
    "/business/company/major_shareholders|/业务/公司/主要股东|  238|\n",
    "/business/company_shareholder/major_shareholder_of| /业务/公司_股东/主要股东   |  238|\n",
    "/sports/sports_team/location|/体育/运动队/地点|  186|\n",
    "/sports/sports_team_location/teams|/体育/运动队位置/团队|  186|\n",
    "/people/person/religion|/人/人/宗教|   56|\n",
    "/business/company/advisors| /业务/公司/顾问|   37|\n",
    "/people/ethnicity/geographic_distribution|/人民/种族/地理分布|   32|\n",
    "/people/person/ethnicity|/人/人/种族|   19|\n",
    "/people/ethnicity/people|/人/种族/人|   19|\n",
    "/people/person/profession |/人/人/职业|    2|"
   ]
  },
  {
   "cell_type": "markdown",
   "metadata": {},
   "source": [
    "## NYT 示例样本"
   ]
  },
  {
   "cell_type": "code",
   "execution_count": 54,
   "metadata": {},
   "outputs": [
    {
     "data": {
      "text/plain": [
       "{'text': \"In a 3-0 victory over the Crew on Saturday in Columbus , Ohio , goalkeeper Zach Wells stopped Kyle Martino 's penalty kick , only the third unsuccessful penalty in 20 attempts in M.L.S . this season .\",\n",
       " 'triple_list': [['Ohio', '/location/location/contains', 'Columbus']]}"
      ]
     },
     "execution_count": 54,
     "metadata": {},
     "output_type": "execute_result"
    }
   ],
   "source": [
    "sample={\n",
    "  \"text\": \"In a 3-0 victory over the Crew on Saturday in Columbus , Ohio , goalkeeper Zach Wells stopped Kyle Martino 's penalty kick , only the third unsuccessful penalty in 20 attempts in M.L.S . this season .\",\n",
    "  \"triple_list\": [\n",
    "    [\n",
    "      \"Ohio\",\n",
    "      \"/location/location/contains\",\n",
    "      \"Columbus\"\n",
    "    ]\n",
    "  ]\n",
    "}\n",
    "smaple"
   ]
  },
  {
   "cell_type": "markdown",
   "metadata": {},
   "source": [
    "'Ohio', '/location/location/contains', 'Columbusd ： '俄亥俄', '/位置/位置/包含', '哥伦布'"
   ]
  },
  {
   "cell_type": "markdown",
   "metadata": {},
   "source": [
    "## NYT 文本长度分析"
   ]
  },
  {
   "cell_type": "code",
   "execution_count": 50,
   "metadata": {},
   "outputs": [
    {
     "name": "stderr",
     "output_type": "stream",
     "text": [
      "'HTTPSConnectionPool(host='huggingface.co', port=443): Max retries exceeded with url: /bert-base-uncased/resolve/main/tokenizer_config.json (Caused by ConnectTimeoutError(<urllib3.connection.HTTPSConnection object at 0x00000281ABE30130>, 'Connection to huggingface.co timed out. (connect timeout=10)'))' thrown while requesting HEAD https://huggingface.co/bert-base-uncased/resolve/main/tokenizer_config.json\n"
     ]
    }
   ],
   "source": [
    "from transformers import AutoTokenizer\n",
    "tokenizer=AutoTokenizer.from_pretrained('bert-base-uncased')"
   ]
  },
  {
   "cell_type": "code",
   "execution_count": 51,
   "metadata": {},
   "outputs": [
    {
     "data": {
      "text/plain": [
       "BertTokenizerFast(name_or_path='bert-base-uncased', vocab_size=30522, model_max_length=512, is_fast=True, padding_side='right', truncation_side='right', special_tokens={'unk_token': '[UNK]', 'sep_token': '[SEP]', 'pad_token': '[PAD]', 'cls_token': '[CLS]', 'mask_token': '[MASK]'}, clean_up_tokenization_spaces=True)"
      ]
     },
     "execution_count": 51,
     "metadata": {},
     "output_type": "execute_result"
    }
   ],
   "source": [
    "tokenizer"
   ]
  },
  {
   "cell_type": "code",
   "execution_count": 55,
   "metadata": {},
   "outputs": [
    {
     "data": {
      "text/plain": [
       "{'input_ids': [101, 1999, 1037, 1017, 1011, 1014, 3377, 2058, 1996, 3626, 2006, 5095, 1999, 8912, 1010, 4058, 1010, 9653, 12397, 7051, 3030, 7648, 3235, 2080, 1005, 1055, 6531, 5926, 1010, 2069, 1996, 2353, 7736, 6531, 1999, 2322, 4740, 1999, 1049, 1012, 1048, 1012, 1055, 1012, 2023, 2161, 1012, 102], 'token_type_ids': [0, 0, 0, 0, 0, 0, 0, 0, 0, 0, 0, 0, 0, 0, 0, 0, 0, 0, 0, 0, 0, 0, 0, 0, 0, 0, 0, 0, 0, 0, 0, 0, 0, 0, 0, 0, 0, 0, 0, 0, 0, 0, 0, 0, 0, 0, 0, 0], 'attention_mask': [1, 1, 1, 1, 1, 1, 1, 1, 1, 1, 1, 1, 1, 1, 1, 1, 1, 1, 1, 1, 1, 1, 1, 1, 1, 1, 1, 1, 1, 1, 1, 1, 1, 1, 1, 1, 1, 1, 1, 1, 1, 1, 1, 1, 1, 1, 1, 1]}"
      ]
     },
     "execution_count": 55,
     "metadata": {},
     "output_type": "execute_result"
    }
   ],
   "source": [
    "tokenizer(sample['text'])"
   ]
  },
  {
   "cell_type": "code",
   "execution_count": 56,
   "metadata": {},
   "outputs": [],
   "source": [
    "train['word_len']=train['text'].apply(lambda x:len(tokenizer(x)['input_ids']))"
   ]
  },
  {
   "cell_type": "code",
   "execution_count": 57,
   "metadata": {},
   "outputs": [
    {
     "data": {
      "text/plain": [
       "<Axes: ylabel='Density'>"
      ]
     },
     "execution_count": 57,
     "metadata": {},
     "output_type": "execute_result"
    },
    {
     "data": {
      "image/png": "[encoded data removed]",
      "text/plain": [
       "<Figure size 432x288 with 1 Axes>"
      ]
     },
     "metadata": {
      "needs_background": "light"
     },
     "output_type": "display_data"
    }
   ],
   "source": [
    "train['char_len']=train['text'].map(len)\n",
    "train['char_len'].plot.kde()\n",
    "train['word_len'].plot.kde()"
   ]
  },
  {
   "cell_type": "code",
   "execution_count": 58,
   "metadata": {},
   "outputs": [
    {
     "data": {
      "text/plain": [
       "count    56195.000000\n",
       "mean        45.972062\n",
       "std         17.026058\n",
       "min          6.000000\n",
       "25%         34.000000\n",
       "50%         44.000000\n",
       "75%         56.000000\n",
       "max        172.000000\n",
       "Name: word_len, dtype: float64"
      ]
     },
     "execution_count": 58,
     "metadata": {},
     "output_type": "execute_result"
    }
   ],
   "source": [
    "train['word_len'].describe()"
   ]
  },
  {
   "cell_type": "code",
   "execution_count": 59,
   "metadata": {},
   "outputs": [
    {
     "data": {
      "text/plain": [
       "count    56195.000000\n",
       "mean       204.765815\n",
       "std         77.901052\n",
       "min         14.000000\n",
       "25%        149.000000\n",
       "50%        198.000000\n",
       "75%        252.000000\n",
       "max        627.000000\n",
       "Name: char_len, dtype: float64"
      ]
     },
     "execution_count": 59,
     "metadata": {},
     "output_type": "execute_result"
    }
   ],
   "source": [
    "train['char_len'].describe()"
   ]
  },
  {
   "cell_type": "markdown",
   "metadata": {},
   "source": [
    "- 文本原始字符个数范围为14到627个\n",
    "- 经过bert分词器编码之后的文本长度范围为`6~172`"
   ]
  },
  {
   "cell_type": "code",
   "execution_count": null,
   "metadata": {},
   "outputs": [],
   "source": []
  }
 ],
 "metadata": {
  "kernelspec": {
   "display_name": "Python 3 (ipykernel)",
   "language": "python",
   "name": "python3"
  },
  "language_info": {
   "codemirror_mode": {
    "name": "ipython",
    "version": 3
   },
   "file_extension": ".py",
   "mimetype": "text/x-python",
   "name": "python",
   "nbconvert_exporter": "python",
   "pygments_lexer": "ipython3",
   "version": "3.9.7"
  },
  "toc-autonumbering": false,
  "toc-showcode": false,
  "toc-showmarkdowntxt": false,
  "toc-showtags": false
 },
 "nbformat": 4,
 "nbformat_minor": 4
}
